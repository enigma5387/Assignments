{
 "cells": [
  {
   "cell_type": "code",
   "execution_count": null,
   "id": "b63506f3-9953-4f4b-9c97-ddb444d37f89",
   "metadata": {},
   "outputs": [],
   "source": [
    "Q1, Create a vehicle class with an init method having instance variables as name_of_vehicle, max_speed\n",
    "and average_of_vehicle."
   ]
  },
  {
   "cell_type": "code",
   "execution_count": 3,
   "id": "fa399516-81d7-4a36-9f82-4548a8404937",
   "metadata": {},
   "outputs": [],
   "source": [
    "class vehicle:\n",
    "    def __init__(self,name_of_vehicle,max_speed,average_of_vehicle):\n",
    "        self.name = name_of_vehicle\n",
    "        self.speed = max_speed\n",
    "        self.avg = average_of_vehicle\n",
    "    "
   ]
  },
  {
   "cell_type": "code",
   "execution_count": 4,
   "id": "d7002e20-5a21-4528-9af1-18358e6c212f",
   "metadata": {},
   "outputs": [],
   "source": [
    "car = vehicle(\"Jaguar\",\"250km/h\",\"80km/h\") "
   ]
  },
  {
   "cell_type": "code",
   "execution_count": 5,
   "id": "4abf8307-cea3-4600-bf15-eb35de667619",
   "metadata": {},
   "outputs": [
    {
     "data": {
      "text/plain": [
       "'Jaguar'"
      ]
     },
     "execution_count": 5,
     "metadata": {},
     "output_type": "execute_result"
    }
   ],
   "source": [
    "car.name"
   ]
  },
  {
   "cell_type": "code",
   "execution_count": 6,
   "id": "64695973-760d-4405-a755-df4e83edb78e",
   "metadata": {},
   "outputs": [
    {
     "data": {
      "text/plain": [
       "'250km/h'"
      ]
     },
     "execution_count": 6,
     "metadata": {},
     "output_type": "execute_result"
    }
   ],
   "source": [
    "car.speed"
   ]
  },
  {
   "cell_type": "code",
   "execution_count": 7,
   "id": "eca1003f-f380-4d41-b05b-6c1bd847cfc9",
   "metadata": {},
   "outputs": [
    {
     "data": {
      "text/plain": [
       "'80km/h'"
      ]
     },
     "execution_count": 7,
     "metadata": {},
     "output_type": "execute_result"
    }
   ],
   "source": [
    "car.avg"
   ]
  },
  {
   "cell_type": "code",
   "execution_count": 8,
   "id": "6e2d857f-e236-493f-9b8e-3b2a85d2cf7b",
   "metadata": {},
   "outputs": [],
   "source": [
    "bike = vehicle(\"Hero Honda\",\"93km/h\",\"55km/h\")"
   ]
  },
  {
   "cell_type": "code",
   "execution_count": 9,
   "id": "aabe965b-85ec-4282-9907-1c9cb4ed78d8",
   "metadata": {},
   "outputs": [
    {
     "data": {
      "text/plain": [
       "'Hero Honda'"
      ]
     },
     "execution_count": 9,
     "metadata": {},
     "output_type": "execute_result"
    }
   ],
   "source": [
    "bike.name"
   ]
  },
  {
   "cell_type": "code",
   "execution_count": 10,
   "id": "b9cc3612-6444-40a1-be40-9c62872c25c1",
   "metadata": {},
   "outputs": [
    {
     "data": {
      "text/plain": [
       "'93km/h'"
      ]
     },
     "execution_count": 10,
     "metadata": {},
     "output_type": "execute_result"
    }
   ],
   "source": [
    "bike.speed"
   ]
  },
  {
   "cell_type": "code",
   "execution_count": 11,
   "id": "a1a91db3-d562-40d5-b029-b5e7ff9326e9",
   "metadata": {},
   "outputs": [
    {
     "data": {
      "text/plain": [
       "'55km/h'"
      ]
     },
     "execution_count": 11,
     "metadata": {},
     "output_type": "execute_result"
    }
   ],
   "source": [
    "bike.avg"
   ]
  },
  {
   "cell_type": "code",
   "execution_count": null,
   "id": "8ff597d8-f2af-46a0-afcf-3b661ba8a413",
   "metadata": {},
   "outputs": [],
   "source": [
    "Q2. Create a child class car from the vehicle class created in Que 1, which will inherit the vehicle class.\n",
    "Create a method named seating_capacity which takes capacity as an argument and returns the name of\n",
    "the vehicle and its seating capacity."
   ]
  },
  {
   "cell_type": "code",
   "execution_count": 12,
   "id": "0c02a78d-9858-4470-97a2-b7a53c99c99d",
   "metadata": {},
   "outputs": [],
   "source": [
    "class vehicle:\n",
    "    def __init__(self,name_of_vehicle,max_speed,average_of_vehicle):\n",
    "        self.name = name_of_vehicle\n",
    "        self.speed = max_speed\n",
    "        self.avg = average_of_vehicle\n",
    "\n",
    "class car(vehicle):\n",
    "    def seating_capacity(self,capacity):\n",
    "        return f\"{self.name},{capacity}\""
   ]
  },
  {
   "cell_type": "code",
   "execution_count": 13,
   "id": "a28985e7-f254-4c20-bd7d-8e2eddc91e0d",
   "metadata": {},
   "outputs": [],
   "source": [
    "c = car(\"jaguar\",250,88)"
   ]
  },
  {
   "cell_type": "code",
   "execution_count": 14,
   "id": "6635b95f-a35f-4171-856f-91e756aa696c",
   "metadata": {},
   "outputs": [
    {
     "data": {
      "text/plain": [
       "'jaguar,5'"
      ]
     },
     "execution_count": 14,
     "metadata": {},
     "output_type": "execute_result"
    }
   ],
   "source": [
    "c.seating_capacity(5)"
   ]
  },
  {
   "cell_type": "code",
   "execution_count": null,
   "id": "4f415575-9c8e-4e05-b364-83e722be9fb4",
   "metadata": {},
   "outputs": [],
   "source": [
    "Q3. What is multiple inheritance? Write a python code to demonstrate multiple inheritance."
   ]
  },
  {
   "cell_type": "code",
   "execution_count": null,
   "id": "edec2822-fc74-4065-b0f2-2eeb19bb95e6",
   "metadata": {},
   "outputs": [],
   "source": [
    "ANS:Multiple inheritance is a feature of object oriented programming in which object or class can inherit features\n",
    "    from more than one parent object or parent class."
   ]
  },
  {
   "cell_type": "code",
   "execution_count": 15,
   "id": "18eb8a60-e8a0-4efa-b146-4f6a3498603e",
   "metadata": {},
   "outputs": [],
   "source": [
    "class employee:\n",
    "    company = \"Visa\"\n",
    "    code = 23\n",
    "    def showDetail(self):\n",
    "        return self.code\n",
    "class freelancer:\n",
    "    company = \"Fiverr\"\n",
    "    code = 41\n",
    "    def showDetail(self):\n",
    "        return self.code\n",
    "class programmer(freelancer,employee):\n",
    "    name = \"Priya\"\n",
    "    def showDetail(self):\n",
    "        return self.name\n"
   ]
  },
  {
   "cell_type": "code",
   "execution_count": 16,
   "id": "01a57c9f-7bda-4d3b-a2e7-46992ca1b2c3",
   "metadata": {},
   "outputs": [],
   "source": [
    "e = employee()\n",
    "f = freelancer()\n",
    "p = programmer()"
   ]
  },
  {
   "cell_type": "code",
   "execution_count": 17,
   "id": "b3100271-2d44-4b59-9851-e198c868c1f8",
   "metadata": {},
   "outputs": [
    {
     "data": {
      "text/plain": [
       "'Fiverr'"
      ]
     },
     "execution_count": 17,
     "metadata": {},
     "output_type": "execute_result"
    }
   ],
   "source": [
    "p.company"
   ]
  },
  {
   "cell_type": "code",
   "execution_count": 18,
   "id": "85c4291e-ee6a-4382-9dd9-161b5b96cf4c",
   "metadata": {},
   "outputs": [
    {
     "data": {
      "text/plain": [
       "'Priya'"
      ]
     },
     "execution_count": 18,
     "metadata": {},
     "output_type": "execute_result"
    }
   ],
   "source": [
    "p.name"
   ]
  },
  {
   "cell_type": "code",
   "execution_count": 19,
   "id": "8c9d1830-4267-4d23-8d92-af7c6ecdac4f",
   "metadata": {},
   "outputs": [
    {
     "data": {
      "text/plain": [
       "'Priya'"
      ]
     },
     "execution_count": 19,
     "metadata": {},
     "output_type": "execute_result"
    }
   ],
   "source": [
    "p.showDetail()"
   ]
  },
  {
   "cell_type": "code",
   "execution_count": null,
   "id": "226e2538-fa82-4941-9f83-f636870610dd",
   "metadata": {},
   "outputs": [],
   "source": [
    "Q4. What are getter and setter in python? Create a class and create a getter and a setter method in this\n",
    "class."
   ]
  },
  {
   "cell_type": "code",
   "execution_count": null,
   "id": "c0ac2af0-ca8b-4c51-a850-5d5bbe78eded",
   "metadata": {},
   "outputs": [],
   "source": [
    "ANS: Getter is method thatus to access an attribute in a given class.\n",
    "     Setter is a method that allow us to set or mutate the value of an attribute in a class.\n",
    "    we use @property decorator to achieve getters and setters"
   ]
  },
  {
   "cell_type": "code",
   "execution_count": 23,
   "id": "cb5e996d-84cb-46eb-ab5d-48b034532719",
   "metadata": {},
   "outputs": [],
   "source": [
    "class Employee:\n",
    "    salary = 5660\n",
    "    bonus = 200\n",
    "\n",
    "    @property  \n",
    "    def getTotal(self):\n",
    "        print(\"getter method called\")\n",
    "        return self.bonus\n",
    "\n",
    "    @getTotal.setter\n",
    "    def getTotal(self,val):\n",
    "        print(\"setter method called\")\n",
    "        self.bonus = val - self.salary  "
   ]
  },
  {
   "cell_type": "code",
   "execution_count": 24,
   "id": "d3e234f0-4768-4c79-af04-e14c1d9d5f59",
   "metadata": {},
   "outputs": [],
   "source": [
    "e = Employee()"
   ]
  },
  {
   "cell_type": "code",
   "execution_count": 25,
   "id": "f5fcf432-5faf-4dd1-83f3-b6ebba5edfa5",
   "metadata": {},
   "outputs": [
    {
     "name": "stdout",
     "output_type": "stream",
     "text": [
      "setter method called\n"
     ]
    }
   ],
   "source": [
    "e.getTotal = 5800"
   ]
  },
  {
   "cell_type": "code",
   "execution_count": 26,
   "id": "b8daff10-b362-4a9b-88b2-26c99af677ef",
   "metadata": {},
   "outputs": [
    {
     "data": {
      "text/plain": [
       "140"
      ]
     },
     "execution_count": 26,
     "metadata": {},
     "output_type": "execute_result"
    }
   ],
   "source": [
    "e.bonus"
   ]
  },
  {
   "cell_type": "code",
   "execution_count": 27,
   "id": "aaa7448a-3d58-4599-b8b7-d4771db26485",
   "metadata": {},
   "outputs": [
    {
     "name": "stdout",
     "output_type": "stream",
     "text": [
      "getter method called\n"
     ]
    },
    {
     "data": {
      "text/plain": [
       "140"
      ]
     },
     "execution_count": 27,
     "metadata": {},
     "output_type": "execute_result"
    }
   ],
   "source": [
    "e.getTotal"
   ]
  },
  {
   "cell_type": "code",
   "execution_count": null,
   "id": "a190a250-3f7d-4d1d-abdb-206bcbb79432",
   "metadata": {},
   "outputs": [],
   "source": [
    "Q5.What is method overriding in python? Write a python code to demonstrate method overriding."
   ]
  },
  {
   "cell_type": "code",
   "execution_count": null,
   "id": "963248d7-0588-4ffe-bb98-1e725b4a740b",
   "metadata": {},
   "outputs": [],
   "source": [
    "ANS: Method overriding is a feature of object-oriented programming languages where the subclass or child class can\n",
    "     provide the program with specific characteristics or a specific implementation process of data provided that\n",
    "     are already defined in the parent class or superclass."
   ]
  },
  {
   "cell_type": "code",
   "execution_count": 29,
   "id": "4e819510-2b83-4469-94cc-0950c0f04abb",
   "metadata": {},
   "outputs": [],
   "source": [
    "class Grandparent:\n",
    "    salary = \"1.5Cr\"\n",
    "    company = \"Indigo\"\n",
    "    def getDetails(self):\n",
    "        print(\"He is a business man\")\n",
    "        print(f\"Having {self.company} company with networth 200 Cr per annum\")\n",
    "\n",
    "class Parent(Grandparent):\n",
    "    salary = \"8.2Cr\" \n",
    "    def getDetails(self):\n",
    "        print(f\"They are Programmer with networth {self.salary} per annum\")\n",
    "\n",
    "class Child(Parent):\n",
    "     company = \"VBT Technology\"\n",
    "       "
   ]
  },
  {
   "cell_type": "code",
   "execution_count": 30,
   "id": "1c12f485-c964-4b25-b284-38c1c16e971f",
   "metadata": {},
   "outputs": [],
   "source": [
    "c = Child()\n",
    "g = Grandparent()\n",
    "p = Parent()  \n"
   ]
  },
  {
   "cell_type": "code",
   "execution_count": 31,
   "id": "3d98efb6-d864-4709-8086-1ea1637e174d",
   "metadata": {},
   "outputs": [
    {
     "name": "stdout",
     "output_type": "stream",
     "text": [
      "They are Programmer with networth 8.2Cr per annum\n"
     ]
    }
   ],
   "source": [
    "c.getDetails() "
   ]
  },
  {
   "cell_type": "code",
   "execution_count": 32,
   "id": "76b8c64b-962b-4d08-a8e6-1fd50def7e6a",
   "metadata": {},
   "outputs": [
    {
     "name": "stdout",
     "output_type": "stream",
     "text": [
      "He is a business man\n",
      "Having Indigo company with networth 200 Cr per annum\n"
     ]
    }
   ],
   "source": [
    "g.getDetails()"
   ]
  },
  {
   "cell_type": "code",
   "execution_count": null,
   "id": "52469508-c988-44b5-bbb2-35cfd5a1e8e6",
   "metadata": {},
   "outputs": [],
   "source": []
  }
 ],
 "metadata": {
  "kernelspec": {
   "display_name": "Python 3 (ipykernel)",
   "language": "python",
   "name": "python3"
  },
  "language_info": {
   "codemirror_mode": {
    "name": "ipython",
    "version": 3
   },
   "file_extension": ".py",
   "mimetype": "text/x-python",
   "name": "python",
   "nbconvert_exporter": "python",
   "pygments_lexer": "ipython3",
   "version": "3.10.8"
  }
 },
 "nbformat": 4,
 "nbformat_minor": 5
}
