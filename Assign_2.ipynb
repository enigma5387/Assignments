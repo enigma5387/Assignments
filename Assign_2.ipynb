{
 "cells": [
  {
   "cell_type": "code",
   "execution_count": null,
   "id": "e3ceac8d-b4cb-4c9b-afbb-6356066f6ec1",
   "metadata": {},
   "outputs": [],
   "source": [
    "Q1. How do you comment code in Python? What are the different types of comments?"
   ]
  },
  {
   "cell_type": "code",
   "execution_count": null,
   "id": "efec2aac-336c-4bff-96bf-cb60d7bc3a89",
   "metadata": {},
   "outputs": [],
   "source": [
    "ANS: Comments in Python are identified as \"#\" and \" '''       ''' \" in which \"#\" are used when we want to comment \n",
    "a single line and \" '''          ''' \" are used when we want to comment a paragrah or more than one line (multiple \n",
    "line) \n",
    "like if we want to comment (a = 5) single line then press the key shilf+hash or ctrl + / and for coment out press again \n",
    "shift + hash\n",
    "If we want to comment multiple line then put triple inverted comma \" ''' \" in first line and then directly in last\n",
    "line .... \n",
    "example : "
   ]
  },
  {
   "cell_type": "code",
   "execution_count": 2,
   "id": "ce7e6174-02d2-4b55-95d3-ba5f8fde3768",
   "metadata": {},
   "outputs": [],
   "source": [
    "# a = 5"
   ]
  },
  {
   "cell_type": "code",
   "execution_count": 3,
   "id": "374fd808-19c1-4647-8362-bbc9b733decd",
   "metadata": {},
   "outputs": [
    {
     "data": {
      "text/plain": [
       "'m = 8\\nif m>5:\\n    print(\"you win\")\\nelse:\\n    print(\"you lose\")'"
      ]
     },
     "execution_count": 3,
     "metadata": {},
     "output_type": "execute_result"
    }
   ],
   "source": [
    "'''m = 8\n",
    "if m>5:\n",
    "    print(\"you win\")\n",
    "else:\n",
    "    print(\"you lose\")'''"
   ]
  },
  {
   "cell_type": "code",
   "execution_count": null,
   "id": "0dc1374f-d828-4217-adc0-189023f3a0b5",
   "metadata": {},
   "outputs": [],
   "source": [
    "Q2. What are variables in Python? How do you declare and assign values to variables?"
   ]
  },
  {
   "cell_type": "code",
   "execution_count": null,
   "id": "8b9bf2ea-19ae-4194-a19d-3c63e778f3f2",
   "metadata": {},
   "outputs": [],
   "source": [
    "ANA: A pyhton variable is a symbolic name that is reference or pointer to an object and oject can be int ,float string,list,tuples etc Once obect is assigned to a variable, you can refer to the object by that name. But data itself contained in object.\n",
    "examle : a = 4\n",
    "       c = 'priya'\n",
    "       b = [23,56,True,'no']\n",
    "        d = (4,6.66,2,1,2)\n",
    "so here a ,b , c ,d  are variables which are assigned by different data type like int , string,list, tuples... there are many different data type objects.        \n",
    "        \n",
    "        "
   ]
  },
  {
   "cell_type": "code",
   "execution_count": 5,
   "id": "b447c487-edca-430a-badf-4b6f79528360",
   "metadata": {},
   "outputs": [],
   "source": [
    "a = 5  #here a is assigned by integer number 5 "
   ]
  },
  {
   "cell_type": "code",
   "execution_count": 6,
   "id": "c33fe54a-ef9c-4820-a8f6-64eb45a78d05",
   "metadata": {},
   "outputs": [
    {
     "data": {
      "text/plain": [
       "5"
      ]
     },
     "execution_count": 6,
     "metadata": {},
     "output_type": "execute_result"
    }
   ],
   "source": [
    "a"
   ]
  },
  {
   "cell_type": "code",
   "execution_count": 7,
   "id": "a13526d8-657a-44a8-953d-8d4cda4c8830",
   "metadata": {},
   "outputs": [],
   "source": [
    " b = [23,56,True,'no']    #here b is assigned by list"
   ]
  },
  {
   "cell_type": "code",
   "execution_count": 8,
   "id": "12d91e30-0bfe-41df-b22e-c34004c6169f",
   "metadata": {},
   "outputs": [
    {
     "data": {
      "text/plain": [
       "[23, 56, True, 'no']"
      ]
     },
     "execution_count": 8,
     "metadata": {},
     "output_type": "execute_result"
    }
   ],
   "source": [
    "b"
   ]
  },
  {
   "cell_type": "code",
   "execution_count": 9,
   "id": "b76da376-795a-449b-adb7-a20c9196c7da",
   "metadata": {},
   "outputs": [],
   "source": [
    "c = 'priya'  #here c is assigned by string"
   ]
  },
  {
   "cell_type": "code",
   "execution_count": 10,
   "id": "f05deb21-5e1f-47b3-94db-076e385fef2b",
   "metadata": {},
   "outputs": [
    {
     "data": {
      "text/plain": [
       "'priya'"
      ]
     },
     "execution_count": 10,
     "metadata": {},
     "output_type": "execute_result"
    }
   ],
   "source": [
    "c"
   ]
  },
  {
   "cell_type": "code",
   "execution_count": 11,
   "id": "7fdc8393-3760-48b8-8c50-8bf96b8fe9fe",
   "metadata": {},
   "outputs": [],
   "source": [
    "d = (4,6.66,2,1,2)    #here d is assigned by tuples"
   ]
  },
  {
   "cell_type": "code",
   "execution_count": 12,
   "id": "4f573860-f8d9-4601-a395-562da26e4258",
   "metadata": {},
   "outputs": [
    {
     "data": {
      "text/plain": [
       "(4, 6.66, 2, 1, 2)"
      ]
     },
     "execution_count": 12,
     "metadata": {},
     "output_type": "execute_result"
    }
   ],
   "source": [
    "d"
   ]
  },
  {
   "cell_type": "code",
   "execution_count": null,
   "id": "5d76e865-ea65-4d2e-8249-c4a60ac46a43",
   "metadata": {},
   "outputs": [],
   "source": [
    "Q3. How do you convert one data type to another in Python?"
   ]
  },
  {
   "cell_type": "code",
   "execution_count": null,
   "id": "48582b1b-de27-487f-be44-23a1a575fe50",
   "metadata": {},
   "outputs": [],
   "source": [
    "ANS: Let we have a = 5 where 5 is an integer number and want to convert it into string. Then code a = str(a) and then run."
   ]
  },
  {
   "cell_type": "code",
   "execution_count": 13,
   "id": "6209b283-3fac-4e0c-8e10-0f8eed192f93",
   "metadata": {},
   "outputs": [],
   "source": [
    "a = 5"
   ]
  },
  {
   "cell_type": "code",
   "execution_count": 14,
   "id": "9008e04b-5843-430d-9de9-fdacb918a640",
   "metadata": {},
   "outputs": [
    {
     "data": {
      "text/plain": [
       "int"
      ]
     },
     "execution_count": 14,
     "metadata": {},
     "output_type": "execute_result"
    }
   ],
   "source": [
    "type(a)"
   ]
  },
  {
   "cell_type": "code",
   "execution_count": 15,
   "id": "9f5e401a-ac9f-4fbb-942f-28ce49462453",
   "metadata": {},
   "outputs": [],
   "source": [
    "a = str(a)"
   ]
  },
  {
   "cell_type": "code",
   "execution_count": 16,
   "id": "92a4ede4-5a33-4617-a13a-1f5fff251ad5",
   "metadata": {},
   "outputs": [
    {
     "data": {
      "text/plain": [
       "str"
      ]
     },
     "execution_count": 16,
     "metadata": {},
     "output_type": "execute_result"
    }
   ],
   "source": [
    "type(a)"
   ]
  },
  {
   "cell_type": "code",
   "execution_count": 17,
   "id": "1d0d98f8-fac5-405e-a753-9237bdb9582e",
   "metadata": {},
   "outputs": [
    {
     "data": {
      "text/plain": [
       "'5'"
      ]
     },
     "execution_count": 17,
     "metadata": {},
     "output_type": "execute_result"
    }
   ],
   "source": [
    "a"
   ]
  },
  {
   "cell_type": "code",
   "execution_count": 18,
   "id": "57e2036b-e85d-4fdf-8846-cb61d23e71eb",
   "metadata": {},
   "outputs": [],
   "source": [
    "a = float(a)"
   ]
  },
  {
   "cell_type": "code",
   "execution_count": 19,
   "id": "16c6d09d-4b6f-4fc1-bd8b-6aec2a3f7be9",
   "metadata": {},
   "outputs": [
    {
     "data": {
      "text/plain": [
       "float"
      ]
     },
     "execution_count": 19,
     "metadata": {},
     "output_type": "execute_result"
    }
   ],
   "source": [
    "type(a)"
   ]
  },
  {
   "cell_type": "code",
   "execution_count": null,
   "id": "8a9d5d7d-3751-4c41-a9cb-349bb1d9ae96",
   "metadata": {},
   "outputs": [
    {
     "data": {
      "text/plain": [
       "5.0"
      ]
     },
     "execution_count": 20,
     "metadata": {},
     "output_type": "execute_result"
    }
   ],
   "source": [
    "a"
   ]
  },
  {
   "cell_type": "code",
   "execution_count": 41,
   "id": "666fe58e-8b0c-4d6a-923c-4e4818799687",
   "metadata": {},
   "outputs": [],
   "source": [
    "t = 'priya'"
   ]
  },
  {
   "cell_type": "code",
   "execution_count": 42,
   "id": "2cce42fb-79a9-4e2e-8ec1-1744a144a37f",
   "metadata": {},
   "outputs": [],
   "source": [
    "l = list(t)"
   ]
  },
  {
   "cell_type": "code",
   "execution_count": 43,
   "id": "a85b47e9-0771-4091-aac4-5552c9194e87",
   "metadata": {},
   "outputs": [
    {
     "data": {
      "text/plain": [
       "list"
      ]
     },
     "execution_count": 43,
     "metadata": {},
     "output_type": "execute_result"
    }
   ],
   "source": [
    "type(l)"
   ]
  },
  {
   "cell_type": "code",
   "execution_count": 46,
   "id": "6d836a58-678b-4ff4-bb76-6bd65dc9c9ee",
   "metadata": {},
   "outputs": [
    {
     "data": {
      "text/plain": [
       "['p', 'r', 'i', 'y', 'a']"
      ]
     },
     "execution_count": 46,
     "metadata": {},
     "output_type": "execute_result"
    }
   ],
   "source": [
    "l"
   ]
  },
  {
   "cell_type": "code",
   "execution_count": 47,
   "id": "19d86c76-f966-447a-8f39-f7366a405fd5",
   "metadata": {},
   "outputs": [],
   "source": [
    "s = [34,67.99,True,'no']"
   ]
  },
  {
   "cell_type": "code",
   "execution_count": 50,
   "id": "53ac16b7-50cf-4d89-aade-8f8331a91d3e",
   "metadata": {},
   "outputs": [],
   "source": [
    "s = tuple(s)"
   ]
  },
  {
   "cell_type": "code",
   "execution_count": 51,
   "id": "8f6571c0-5e5b-46c9-b652-1cc60b9d2f22",
   "metadata": {},
   "outputs": [
    {
     "data": {
      "text/plain": [
       "tuple"
      ]
     },
     "execution_count": 51,
     "metadata": {},
     "output_type": "execute_result"
    }
   ],
   "source": [
    "type(s)"
   ]
  },
  {
   "cell_type": "code",
   "execution_count": 55,
   "id": "1c87a684-6abf-418f-82e1-9eb5b710f9fa",
   "metadata": {},
   "outputs": [
    {
     "data": {
      "text/plain": [
       "(34, 67.99, True, 'no')"
      ]
     },
     "execution_count": 55,
     "metadata": {},
     "output_type": "execute_result"
    }
   ],
   "source": [
    "s"
   ]
  },
  {
   "cell_type": "code",
   "execution_count": 56,
   "id": "4a6a1730-bdcd-4107-85c8-ad10ef907ec2",
   "metadata": {},
   "outputs": [],
   "source": [
    "x = '7'"
   ]
  },
  {
   "cell_type": "code",
   "execution_count": 57,
   "id": "40147059-b901-40af-9bfe-62d89285454a",
   "metadata": {},
   "outputs": [],
   "source": [
    "x = list(x)"
   ]
  },
  {
   "cell_type": "code",
   "execution_count": 58,
   "id": "d7954622-26bb-4733-9c7b-6cda166e50a1",
   "metadata": {},
   "outputs": [
    {
     "data": {
      "text/plain": [
       "list"
      ]
     },
     "execution_count": 58,
     "metadata": {},
     "output_type": "execute_result"
    }
   ],
   "source": [
    "type(x)"
   ]
  },
  {
   "cell_type": "code",
   "execution_count": 59,
   "id": "a08d373b-ecbe-4103-82e7-bed382fbe74e",
   "metadata": {},
   "outputs": [
    {
     "data": {
      "text/plain": [
       "['7']"
      ]
     },
     "execution_count": 59,
     "metadata": {},
     "output_type": "execute_result"
    }
   ],
   "source": [
    "x"
   ]
  },
  {
   "cell_type": "code",
   "execution_count": null,
   "id": "f41325df-b1d9-4eb5-bb97-027d6caac2eb",
   "metadata": {},
   "outputs": [],
   "source": [
    "Q4. How do you write and execute a Python script from the command line?"
   ]
  },
  {
   "cell_type": "code",
   "execution_count": null,
   "id": "ee36c21e-946b-4eaa-9066-9ae7eeaa043f",
   "metadata": {},
   "outputs": [],
   "source": [
    "ANS: First we create a python file by typing 'script' along with the file name in the command line. like  we can create a pytho file \"hello.py\" by typing \"script hello.py\" in terminal. this will open a new file in script where we can start writing our pyhton code"
   ]
  },
  {
   "cell_type": "code",
   "execution_count": null,
   "id": "b82c1a9b-e49f-416f-9e9b-bd216ee4ee9f",
   "metadata": {},
   "outputs": [],
   "source": [
    "Q5. Given a list my_list = [1, 2, 3, 4, 5], write the code to slice the list and obtain the sub-list [2, 3]."
   ]
  },
  {
   "cell_type": "code",
   "execution_count": 60,
   "id": "2ba1ac0f-bf3e-428a-b2f5-63a08e9ac44b",
   "metadata": {},
   "outputs": [],
   "source": [
    "my_list = [1,2,3,4,5]"
   ]
  },
  {
   "cell_type": "code",
   "execution_count": 61,
   "id": "edc4e195-2a0d-418d-9032-d5b8a589f7b0",
   "metadata": {},
   "outputs": [],
   "source": [
    "my_list = my_list[1:3]"
   ]
  },
  {
   "cell_type": "code",
   "execution_count": 62,
   "id": "29836a67-2400-46a7-b870-ecf2484b67a3",
   "metadata": {},
   "outputs": [
    {
     "data": {
      "text/plain": [
       "[2, 3]"
      ]
     },
     "execution_count": 62,
     "metadata": {},
     "output_type": "execute_result"
    }
   ],
   "source": [
    "my_list"
   ]
  },
  {
   "cell_type": "code",
   "execution_count": null,
   "id": "3646d18d-e63a-4e07-a311-776cfea3e6cb",
   "metadata": {},
   "outputs": [],
   "source": [
    "Q6. What is a complex number in mathematics, and how is it represented in Python?"
   ]
  },
  {
   "cell_type": "code",
   "execution_count": null,
   "id": "bedc5ee1-5627-4b73-9bd2-ffd9eec1e685",
   "metadata": {},
   "outputs": [],
   "source": [
    "ANS: In mathematics, complex number are the numbers that are expressed in the form of a +ib where a , b are real numbers and 'i' is imaginary number called 'iota'.\n",
    "But in python complex number are expressed in form of a+ jb where  'j' is an imaginary number.\n",
    "example : 3 +4j"
   ]
  },
  {
   "cell_type": "code",
   "execution_count": 68,
   "id": "43bbd5d1-9e11-47ab-a2c3-f3e62244afbd",
   "metadata": {},
   "outputs": [],
   "source": [
    "comp_num = 3 +7j"
   ]
  },
  {
   "cell_type": "code",
   "execution_count": 69,
   "id": "fb2e36ba-7176-4690-bd11-8cd8576f35f6",
   "metadata": {},
   "outputs": [
    {
     "data": {
      "text/plain": [
       "complex"
      ]
     },
     "execution_count": 69,
     "metadata": {},
     "output_type": "execute_result"
    }
   ],
   "source": [
    "type(comp_num)"
   ]
  },
  {
   "cell_type": "code",
   "execution_count": 71,
   "id": "56db1149-7f5e-4dd5-ba36-5feff57216bd",
   "metadata": {},
   "outputs": [
    {
     "data": {
      "text/plain": [
       "3.0"
      ]
     },
     "execution_count": 71,
     "metadata": {},
     "output_type": "execute_result"
    }
   ],
   "source": [
    "comp_num.real"
   ]
  },
  {
   "cell_type": "code",
   "execution_count": 72,
   "id": "07edca81-fd55-4165-9d0d-2892300fc28b",
   "metadata": {},
   "outputs": [
    {
     "data": {
      "text/plain": [
       "7.0"
      ]
     },
     "execution_count": 72,
     "metadata": {},
     "output_type": "execute_result"
    }
   ],
   "source": [
    "comp_num.imag"
   ]
  },
  {
   "cell_type": "code",
   "execution_count": null,
   "id": "c192747f-42df-468a-a84e-91cbb80722a4",
   "metadata": {},
   "outputs": [],
   "source": [
    "Q7. What is the correct way to declare a variable named age and assign the value 25 to it?"
   ]
  },
  {
   "cell_type": "code",
   "execution_count": 84,
   "id": "7940406d-9bb9-4e4d-80a0-9978ee92db09",
   "metadata": {},
   "outputs": [],
   "source": [
    "age = 25  "
   ]
  },
  {
   "cell_type": "code",
   "execution_count": 85,
   "id": "5a6633b1-317a-478b-97bc-36bfd8973b74",
   "metadata": {},
   "outputs": [
    {
     "data": {
      "text/plain": [
       "25"
      ]
     },
     "execution_count": 85,
     "metadata": {},
     "output_type": "execute_result"
    }
   ],
   "source": [
    "age"
   ]
  },
  {
   "cell_type": "code",
   "execution_count": null,
   "id": "4efa72fd-388e-4763-bd93-3077f693d94a",
   "metadata": {},
   "outputs": [],
   "source": [
    "Q8. Declare a variable named price and assign the value 9.99 to it. What data type does this variable\n",
    "belong to?"
   ]
  },
  {
   "cell_type": "code",
   "execution_count": 86,
   "id": "30286fc4-ac54-4d65-941c-b41acc30d8ea",
   "metadata": {},
   "outputs": [],
   "source": [
    "price = 9.99"
   ]
  },
  {
   "cell_type": "code",
   "execution_count": 87,
   "id": "bb3c9882-986d-49c3-b72f-9ea05109d5c8",
   "metadata": {},
   "outputs": [
    {
     "data": {
      "text/plain": [
       "9.99"
      ]
     },
     "execution_count": 87,
     "metadata": {},
     "output_type": "execute_result"
    }
   ],
   "source": [
    "price"
   ]
  },
  {
   "cell_type": "code",
   "execution_count": 89,
   "id": "f3c9307c-a7bf-4f31-8ff9-e2b58fe46b7b",
   "metadata": {},
   "outputs": [
    {
     "data": {
      "text/plain": [
       "float"
      ]
     },
     "execution_count": 89,
     "metadata": {},
     "output_type": "execute_result"
    }
   ],
   "source": [
    "type(price)"
   ]
  },
  {
   "cell_type": "code",
   "execution_count": null,
   "id": "5ecb130c-320a-4471-8b67-eb81607acf89",
   "metadata": {},
   "outputs": [],
   "source": [
    "Q9. Create a variable named name and assign your full name to it as a string. How would you print the\n",
    "value of this variable?"
   ]
  },
  {
   "cell_type": "code",
   "execution_count": 90,
   "id": "eb1ea42c-e5d3-49c1-8d90-c59bebe1a644",
   "metadata": {},
   "outputs": [],
   "source": [
    "name = 'Priya Shaakya'"
   ]
  },
  {
   "cell_type": "code",
   "execution_count": 91,
   "id": "ed02145c-e0e6-404b-a4d0-4013870a64b9",
   "metadata": {},
   "outputs": [
    {
     "data": {
      "text/plain": [
       "'Priya Shaakya'"
      ]
     },
     "execution_count": 91,
     "metadata": {},
     "output_type": "execute_result"
    }
   ],
   "source": [
    "name"
   ]
  },
  {
   "cell_type": "code",
   "execution_count": null,
   "id": "1a24045c-c4bb-4073-8de2-f35010a65ef8",
   "metadata": {},
   "outputs": [],
   "source": [
    "Q10. Given the string \"Hello, World!\", extract the substring \"World\"."
   ]
  },
  {
   "cell_type": "code",
   "execution_count": 92,
   "id": "86f85f84-96ee-40c3-b6d4-3f18add99086",
   "metadata": {},
   "outputs": [],
   "source": [
    "s = \"Hello, World!\""
   ]
  },
  {
   "cell_type": "code",
   "execution_count": 97,
   "id": "a4edff65-9c9d-494c-999c-29d1a14dc876",
   "metadata": {},
   "outputs": [],
   "source": [
    "s1 = s[7:12]"
   ]
  },
  {
   "cell_type": "code",
   "execution_count": 98,
   "id": "8b718aaf-e18b-4a58-a8dc-c849f1c0a307",
   "metadata": {},
   "outputs": [
    {
     "data": {
      "text/plain": [
       "'World'"
      ]
     },
     "execution_count": 98,
     "metadata": {},
     "output_type": "execute_result"
    }
   ],
   "source": [
    "s1"
   ]
  },
  {
   "cell_type": "code",
   "execution_count": null,
   "id": "834bafaa-8856-49d0-a70b-2fd6d5b1724e",
   "metadata": {},
   "outputs": [],
   "source": [
    "Q11. Create a variable named \"is_student\" and assign it a boolean value indicating whether you are\n",
    "currently a student or not."
   ]
  },
  {
   "cell_type": "code",
   "execution_count": null,
   "id": "58fa12f4-cb42-43fb-a183-b303a74d0fe3",
   "metadata": {},
   "outputs": [],
   "source": [
    "is_student = True or False"
   ]
  },
  {
   "cell_type": "code",
   "execution_count": 101,
   "id": "789fa656-0d8c-4d88-93d6-4f16eabe2fe0",
   "metadata": {},
   "outputs": [
    {
     "data": {
      "text/plain": [
       "True"
      ]
     },
     "execution_count": 101,
     "metadata": {},
     "output_type": "execute_result"
    }
   ],
   "source": [
    "is_student"
   ]
  },
  {
   "cell_type": "code",
   "execution_count": null,
   "id": "cff93bfa-9986-4c40-86bd-72625a7ef76e",
   "metadata": {},
   "outputs": [],
   "source": []
  }
 ],
 "metadata": {
  "kernelspec": {
   "display_name": "Python 3 (ipykernel)",
   "language": "python",
   "name": "python3"
  },
  "language_info": {
   "codemirror_mode": {
    "name": "ipython",
    "version": 3
   },
   "file_extension": ".py",
   "mimetype": "text/x-python",
   "name": "python",
   "nbconvert_exporter": "python",
   "pygments_lexer": "ipython3",
   "version": "3.10.8"
  }
 },
 "nbformat": 4,
 "nbformat_minor": 5
}
