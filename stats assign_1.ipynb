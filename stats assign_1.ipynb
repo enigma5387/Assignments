{
 "cells": [
  {
   "cell_type": "code",
   "execution_count": null,
   "id": "770a0157-df09-4ef2-b78f-36dc9f1ea370",
   "metadata": {},
   "outputs": [],
   "source": [
    "Q1. What is Statistics?"
   ]
  },
  {
   "cell_type": "code",
   "execution_count": null,
   "id": "8497516b-20d5-4306-9583-600e976b5a41",
   "metadata": {},
   "outputs": [],
   "source": [
    "Ans: Statistics is a science of collecting, organizing and analyzing data.\n",
    "Data is simply a piece of information."
   ]
  },
  {
   "cell_type": "code",
   "execution_count": null,
   "id": "7fd4f7db-4f5b-45d4-baef-860febf993fd",
   "metadata": {},
   "outputs": [],
   "source": [
    "Q2. Define the different types of statistics and give an example of when each type might be used."
   ]
  },
  {
   "cell_type": "code",
   "execution_count": null,
   "id": "3e19fff4-01d4-4aa2-8ac3-6fb01e7d0976",
   "metadata": {},
   "outputs": [],
   "source": [
    "Ans: Type of statistics:\n",
    "\n",
    "    Descriptive statistics: It consist of organizing and summarizing the data.\n",
    "      1. Measure the central tendency (mean,median,mode).\n",
    "      2. Measure the dispersion (variance, standard deviation).\n",
    "      3. Different type of distributing data.\n",
    "         like Histogram , pdf , pmf\n",
    "        \n",
    "    example: (1.) Marks = [23,45,67,54,32,98,67,52,34]\n",
    "            Q. what is avg marks of entire class?\n",
    "            ans: here we calculate mean = (23+45+67+54+32+98+67+52+34)/9 = 52.4444444 \n",
    "   \n",
    "     Inferential statistics: It consist of using data that we measured to form conclusion.\n",
    "                        1. z - test\n",
    "                        2. t - test\n",
    "        example: From the above example, are marks of students is similar to what you except in the entire school?"
   ]
  },
  {
   "cell_type": "code",
   "execution_count": null,
   "id": "ed1ccaa7-5fb8-4467-8191-1a6237812d4d",
   "metadata": {},
   "outputs": [],
   "source": [
    "Q3. What are the different types of data and how do they differ from each other? Provide an example of\n",
    "each type of data."
   ]
  },
  {
   "cell_type": "code",
   "execution_count": null,
   "id": "7ba6f129-bddd-45c2-8101-ecea6e91553a",
   "metadata": {},
   "outputs": [],
   "source": [
    "Ans: There are two different types of data:\n",
    "    1. Quantitative data: Data is depicted in numerical terms. \n",
    "                          Can be shown in numbers and variables like ratio, percentage, and more.\n",
    "        a. DESCRETE\n",
    "        Ex: whole number like 2,5,34,76...\n",
    "        b. CONTINUOUS\n",
    "        Ex: real numbers like 3.66,8.55,7...\n",
    "        \n",
    "    2. Qualitative data: Data is not depicted in numerical terms. \n",
    "                         Could be about the behavioral attributes of a person, or thing. \n",
    "        a. NOMINAL\n",
    "        EX: Blood group like A+ , B+ ,O+ ,O-,AB+ ,AB-\n",
    "            Gender male M , female F\n",
    "        b. ORDINAL\n",
    "        Ex: Top schools ,skin product rating... \n",
    "        "
   ]
  },
  {
   "cell_type": "code",
   "execution_count": null,
   "id": "97f9a234-981c-4209-920b-b90445d101a5",
   "metadata": {},
   "outputs": [],
   "source": [
    "Q4. Categorise the following datasets with respect to quantitative and qualitative data types:\n",
    "(i) Grading in exam: A+, A, B+, B, C+, C, D, E\n",
    "(ii) Colour of mangoes: yellow, green, orange, red\n",
    "(iii) Height data of a class: [178.9, 179, 179.5, 176, 177.2, 178.3, 175.8,...]\n",
    "(iv) Number of mangoes exported by a farm: [500, 600, 478, 672, ...]"
   ]
  },
  {
   "cell_type": "code",
   "execution_count": null,
   "id": "fed919ad-3f57-47fd-b7f1-11d92c38a812",
   "metadata": {},
   "outputs": [],
   "source": [
    "Ans : (i) Qualitative data (ordinal)\n",
    "      (ii) Qualitative data (nominal)\n",
    "      (iii) Quantitative data (continuous)\n",
    "      (iv) Quantitative data (descrete)  "
   ]
  },
  {
   "cell_type": "code",
   "execution_count": null,
   "id": "57b66fe8-cfce-402c-b1b2-cb48f13d4234",
   "metadata": {},
   "outputs": [],
   "source": [
    "Q5. Explain the concept of levels of measurement and give an example of a variable for each level."
   ]
  },
  {
   "cell_type": "code",
   "execution_count": null,
   "id": "b9b95bf1-a604-48d5-8841-551ca5501061",
   "metadata": {},
   "outputs": [],
   "source": [
    "Ans : There are four commonly recognized levels of measurement: nominal, ordinal, interval, and ratio.\n",
    "\n",
    "1. Nominal: This is the lowest level of measurement where variables are categorized into distinct groups based \n",
    "            on qualitative characteristics. Example: Eye color (e.g., blue, brown, green).\n",
    "\n",
    "2. Ordinal: Variables at this level have a natural order or ranking, but the differences between the values are \n",
    "            not consistent. Example: Educational attainment (e.g., high school diploma, bachelor's degree,\n",
    "                                                                                             master's degree).\n",
    "\n",
    "3. Interval: Variables at this level have a consistent measurement scale with equal intervals between the values\n",
    "            ,but there is no true zero point. Example: Temperature measured in Celsius or Fahrenheit.\n",
    "\n",
    "4. Ratio: This is the highest level of measurement with a consistent scale, equal intervals, and a true zero\n",
    "          point. Example: Height in centimeters or weight in kilograms.\n"
   ]
  },
  {
   "cell_type": "code",
   "execution_count": null,
   "id": "a1245764-308e-4fd4-87ac-6ea2188e9729",
   "metadata": {},
   "outputs": [],
   "source": [
    "Q6. Why is it important to understand the level of measurement when analyzing data? Provide an example to\n",
    "illustrate your answer.\n"
   ]
  },
  {
   "cell_type": "code",
   "execution_count": null,
   "id": "793401e4-2b5b-4429-885d-1fd627d884ce",
   "metadata": {},
   "outputs": [],
   "source": [
    "Ans : Because each level of measurement provide different information about the variable and helps to determine \n",
    "      the types of statistical analyses that can be performed on them and the meaningful interpretations that \n",
    "      can be made. It helps to ensure that the analysis is valid and accurate.\n",
    "        \n",
    "ex. Comparison of Groups: When analyzing data, it is important to choose the appropriate statistical tests based\n",
    "on the level of measurement. For instance, if we have an ordinal variable like \"customer satisfaction rating\"\n",
    "and want to compare the satisfaction levels of two groups, a non-parametric test like the Mann-Whitney U test \n",
    "would be more appropriate than a t-test designed for interval/ratio variables.\n"
   ]
  },
  {
   "cell_type": "code",
   "execution_count": null,
   "id": "a3870a19-043f-4081-be8b-5092ec18120f",
   "metadata": {},
   "outputs": [],
   "source": [
    "Q7. How nominal data type is different from ordinal data type."
   ]
  },
  {
   "cell_type": "code",
   "execution_count": null,
   "id": "99a7f4c9-b30c-4464-b7c0-0d92689a1ade",
   "metadata": {},
   "outputs": [],
   "source": [
    "Ans: Nominal data and ordinal data are both types of categorical data, but they differ in terms of the level of \n",
    "     measurement and the characteristics of the categories:\n",
    "\n",
    "1. Level of Measurement: Nominal data is the lowest level of measurement where variables are categorized into \n",
    "distinct groups based on qualitative characteristics. The categories in nominal data do not have an inherent order \n",
    "or ranking. On the other hand, ordinal data is the second level of measurement where variables have a natural order\n",
    "or ranking. The categories in ordinal data can be arranged in a meaningful sequence.\n",
    "\n",
    "2. Characteristics of Categories: In nominal data, the categories are mutually exclusive and exhaustive, meaning \n",
    "each observation can only belong to one category, and all possible categories are represented. Examples of nominal \n",
    "data include eye color (blue, brown, green) or marital status (single, married, divorced). The categories in \n",
    "nominal data cannot be ranked or compared based on magnitude.\n",
    "\n",
    "In ordinal data, the categories not only have mutually exclusive and exhaustive properties but also possess an \n",
    "inherent order or ranking. The categories represent different levels or positions along a scale or continuum.\n",
    "Examples of ordinal data include educational attainment (high school diploma, bachelor's degree, master's degree)\n",
    "or customer satisfaction ratings (poor, fair, good, excellent). The categories in ordinal data can be ranked or \n",
    "ordered based on their relative positions.\n"
   ]
  },
  {
   "cell_type": "code",
   "execution_count": null,
   "id": "982cd04d-3ad5-4e37-8f20-9b11c1e1b22d",
   "metadata": {},
   "outputs": [],
   "source": [
    "Q8. Which type of plot can be used to display data in terms of range?"
   ]
  },
  {
   "cell_type": "code",
   "execution_count": null,
   "id": "743a8d9c-d0a7-433f-b11d-7dd67b839a5b",
   "metadata": {},
   "outputs": [],
   "source": [
    "Ans: Bos plot or Box-and-whisker plot "
   ]
  },
  {
   "cell_type": "code",
   "execution_count": null,
   "id": "fb329876-cb66-4ca1-8974-bb1f611514bc",
   "metadata": {},
   "outputs": [],
   "source": [
    "Q9. Describe the difference between descriptive and inferential statistics. Give an example of each\n",
    "type of statistics and explain how they are used."
   ]
  },
  {
   "cell_type": "code",
   "execution_count": null,
   "id": "cafcb75f-4a79-4c10-a5e0-01e0c70f7655",
   "metadata": {},
   "outputs": [],
   "source": [
    "\n",
    "    Descriptive statistics: It consist of organizing and summarizing the data.\n",
    "      1. Measure the central tendency (mean,median,mode).\n",
    "      2. Measure the dispersion (variance, standard deviation).\n",
    "      3. Different type of distributing data.\n",
    "         like Histogram , pdf , pmf\n",
    "        \n",
    "    example: (1.) Marks = [23,45,67,54,32,98,67,52,34]\n",
    "            Q. what is avg marks of entire class?\n",
    "            ans: here we calculate mean = (23+45+67+54+32+98+67+52+34)/9 = 52.4444444 \n",
    "   \n",
    "     Inferential statistics: It consist of using data that we measured to form conclusion.\n",
    "                        1. z - test\n",
    "                        2. t - test\n",
    "        example: From the above example, are marks of students is similar to what you except in the entire school?"
   ]
  },
  {
   "cell_type": "code",
   "execution_count": null,
   "id": "5d1cc633-eeb9-4667-8582-b4c0bcb5131f",
   "metadata": {},
   "outputs": [],
   "source": [
    "Q10. What are some common measures of central tendency and variability used in statistics? Explain\n",
    "how each measure can be used to describe a dataset."
   ]
  },
  {
   "cell_type": "code",
   "execution_count": null,
   "id": "ec891d5a-ef8a-46e7-b6f8-8b223d0a0ede",
   "metadata": {},
   "outputs": [],
   "source": [
    "Ans: Some common measures of central tendency in statistics are the mean, median, and mode. The mean calculates the\n",
    "     average value of a dataset and is useful for describing the typical value. The median represents the middle \n",
    "     value, dividing the dataset into two equal halves, and is less influenced by extreme values. The mode \n",
    "     identifies the most frequent value or values in the dataset. These measures provide different perspectives on \n",
    "     the center of the data.\n",
    "\n",
    "Measures of variability include the range, standard deviation, and variance. The range represents the difference \n",
    "between the maximum and minimum values, indicating the spread of the data. The standard deviation and variance \n",
    "quantify the dispersion of the data points around the mean, providing insights into the variability or consistency \n",
    "of the dataset. These measures help understand the spread and distribution of the data beyond the central tendency."
   ]
  },
  {
   "cell_type": "code",
   "execution_count": null,
   "id": "239a1fd3-b12c-4908-aa02-2cfa0a16b024",
   "metadata": {},
   "outputs": [],
   "source": []
  },
  {
   "cell_type": "code",
   "execution_count": null,
   "id": "98112bfc-3974-4165-a1e8-517ed8b89a55",
   "metadata": {},
   "outputs": [],
   "source": []
  }
 ],
 "metadata": {
  "kernelspec": {
   "display_name": "Python 3 (ipykernel)",
   "language": "python",
   "name": "python3"
  },
  "language_info": {
   "codemirror_mode": {
    "name": "ipython",
    "version": 3
   },
   "file_extension": ".py",
   "mimetype": "text/x-python",
   "name": "python",
   "nbconvert_exporter": "python",
   "pygments_lexer": "ipython3",
   "version": "3.10.8"
  }
 },
 "nbformat": 4,
 "nbformat_minor": 5
}
