{
 "cells": [
  {
   "cell_type": "code",
   "execution_count": 1,
   "id": "d30443b7-2854-4be4-a233-bd6a83e68e14",
   "metadata": {},
   "outputs": [],
   "source": [
    "#question : 1\n",
    "a = ['priya',23,45.78,[2,5,True]]"
   ]
  },
  {
   "cell_type": "code",
   "execution_count": null,
   "id": "5c1b6506-5334-4d19-84df-612fec9b9b95",
   "metadata": {},
   "outputs": [],
   "source": [
    "#question:2"
   ]
  },
  {
   "cell_type": "code",
   "execution_count": 2,
   "id": "a2397e2f-84dd-403b-b209-42e71e7837b7",
   "metadata": {},
   "outputs": [],
   "source": [
    "var1 = ''"
   ]
  },
  {
   "cell_type": "code",
   "execution_count": 3,
   "id": "46d62bcd-6f53-46d8-8d92-4bde10c1227b",
   "metadata": {},
   "outputs": [
    {
     "data": {
      "text/plain": [
       "str"
      ]
     },
     "execution_count": 3,
     "metadata": {},
     "output_type": "execute_result"
    }
   ],
   "source": [
    "type(var1)"
   ]
  },
  {
   "cell_type": "code",
   "execution_count": 4,
   "id": "8663f9c7-ea82-43c3-a4b8-fcf3fe45f432",
   "metadata": {},
   "outputs": [],
   "source": [
    "var2 = '[DS,ML,Python]'"
   ]
  },
  {
   "cell_type": "code",
   "execution_count": 5,
   "id": "d9ec9b8e-cdc1-4d4d-beca-ec0a56584b2b",
   "metadata": {},
   "outputs": [
    {
     "data": {
      "text/plain": [
       "str"
      ]
     },
     "execution_count": 5,
     "metadata": {},
     "output_type": "execute_result"
    }
   ],
   "source": [
    "type(var2)"
   ]
  },
  {
   "cell_type": "code",
   "execution_count": 6,
   "id": "3a0ac24c-6a3f-425f-9b6e-691739c2ebce",
   "metadata": {},
   "outputs": [],
   "source": [
    "var3 = ['DS', 'ML','Pyhton']"
   ]
  },
  {
   "cell_type": "code",
   "execution_count": 7,
   "id": "1e3140ab-95a4-4a60-9f11-61c852dfd9b0",
   "metadata": {},
   "outputs": [
    {
     "data": {
      "text/plain": [
       "list"
      ]
     },
     "execution_count": 7,
     "metadata": {},
     "output_type": "execute_result"
    }
   ],
   "source": [
    "type(var3)"
   ]
  },
  {
   "cell_type": "code",
   "execution_count": 8,
   "id": "fba618d6-d102-4dc6-94de-0676728122bd",
   "metadata": {},
   "outputs": [],
   "source": [
    "var4 = 1."
   ]
  },
  {
   "cell_type": "code",
   "execution_count": 9,
   "id": "a62fb4de-05ab-4699-aad5-c9562d8d308a",
   "metadata": {},
   "outputs": [
    {
     "data": {
      "text/plain": [
       "float"
      ]
     },
     "execution_count": 9,
     "metadata": {},
     "output_type": "execute_result"
    }
   ],
   "source": [
    "type(var4)"
   ]
  },
  {
   "cell_type": "code",
   "execution_count": null,
   "id": "8ec4a0cf-6a62-414b-9bfb-cc3fd1e3d259",
   "metadata": {},
   "outputs": [],
   "source": [
    "#question : 3"
   ]
  },
  {
   "cell_type": "code",
   "execution_count": 10,
   "id": "4fe1df72-c68b-48b9-a94c-76f8319d574a",
   "metadata": {},
   "outputs": [],
   "source": [
    "a = 5/3     # \" / \" it is use for division to divide any element by element(a/b) and it will give output of int , float data type"
   ]
  },
  {
   "cell_type": "code",
   "execution_count": 11,
   "id": "d04c5ec6-da56-41cc-9228-e33278451655",
   "metadata": {},
   "outputs": [
    {
     "data": {
      "text/plain": [
       "1.6666666666666667"
      ]
     },
     "execution_count": 11,
     "metadata": {},
     "output_type": "execute_result"
    }
   ],
   "source": [
    "a"
   ]
  },
  {
   "cell_type": "code",
   "execution_count": 12,
   "id": "2ea1cbe9-f932-4712-b191-2e0188e92764",
   "metadata": {},
   "outputs": [],
   "source": [
    "b = 5//3   # \" // \" it is use for floor division and it will give output of int data type only."
   ]
  },
  {
   "cell_type": "code",
   "execution_count": 13,
   "id": "842b03b0-e6b7-4e53-a96a-9b7afad28c8c",
   "metadata": {},
   "outputs": [
    {
     "data": {
      "text/plain": [
       "1"
      ]
     },
     "execution_count": 13,
     "metadata": {},
     "output_type": "execute_result"
    }
   ],
   "source": [
    "b"
   ]
  },
  {
   "cell_type": "code",
   "execution_count": 14,
   "id": "ff97169e-6120-478a-9d9f-6237462f4178",
   "metadata": {},
   "outputs": [],
   "source": [
    "c = 5%3   # \" % \" it is use to get the remainder."
   ]
  },
  {
   "cell_type": "code",
   "execution_count": 15,
   "id": "e2e3a641-5b36-45f4-a625-55beffa0ba48",
   "metadata": {},
   "outputs": [
    {
     "data": {
      "text/plain": [
       "2"
      ]
     },
     "execution_count": 15,
     "metadata": {},
     "output_type": "execute_result"
    }
   ],
   "source": [
    "c"
   ]
  },
  {
   "cell_type": "code",
   "execution_count": 16,
   "id": "cbb83ceb-33de-49da-ac74-d3d9a8bad9d4",
   "metadata": {},
   "outputs": [],
   "source": [
    "d = 2**3  # \" ** \" it is use to get (a) to the power (b) like as in ex. 2 to the power 3 means 2*2*2( 2 multiply by 3 times = 8"
   ]
  },
  {
   "cell_type": "code",
   "execution_count": 17,
   "id": "38d3969d-965b-4dd6-9da4-2c3ccbfea10a",
   "metadata": {},
   "outputs": [
    {
     "data": {
      "text/plain": [
       "8"
      ]
     },
     "execution_count": 17,
     "metadata": {},
     "output_type": "execute_result"
    }
   ],
   "source": [
    "d"
   ]
  },
  {
   "cell_type": "code",
   "execution_count": 18,
   "id": "9990dbf2-6daa-4d4b-a126-b8f4e0dc5546",
   "metadata": {},
   "outputs": [
    {
     "name": "stdout",
     "output_type": "stream",
     "text": [
      "4.5\n",
      "<class 'float'>\n",
      "True\n",
      "<class 'bool'>\n",
      "23\n",
      "<class 'str'>\n",
      "pria\n",
      "<class 'str'>\n",
      "54\n",
      "<class 'int'>\n",
      "90.99\n",
      "<class 'float'>\n",
      "None\n",
      "<class 'NoneType'>\n",
      "4.99\n",
      "<class 'float'>\n",
      "1.0\n",
      "<class 'float'>\n",
      "bye\n",
      "<class 'str'>\n"
     ]
    }
   ],
   "source": [
    "# question : 4\n",
    "l = [4.5,True,'23','pria',54,90.99,None,4.99,1.,'bye']\n",
    "for i in l:\n",
    "    print(i)\n",
    "    print(type(i))\n"
   ]
  },
  {
   "cell_type": "code",
   "execution_count": 19,
   "id": "3a4495ce-2189-4840-a14f-de995dd795d2",
   "metadata": {},
   "outputs": [
    {
     "name": "stdin",
     "output_type": "stream",
     "text": [
      "enter the number :  24\n",
      "enter the number :  2\n"
     ]
    },
    {
     "name": "stdout",
     "output_type": "stream",
     "text": [
      "it is divisible by 2 by 3 times\n"
     ]
    }
   ],
   "source": [
    "# question : 5\n",
    "m = int(input(\"enter the number : \"))\n",
    "t = int(input(\"enter the number : \"))\n",
    "i = 0\n",
    "while(m!=1):\n",
    "    if(m%t==0):\n",
    "      m = m/t\n",
    "      i = i+1\n",
    "    else:\n",
    "        break\n",
    "print(f\"it is divisible by {t} by {i} times\")        \n"
   ]
  },
  {
   "cell_type": "code",
   "execution_count": 20,
   "id": "4059342d-d2fc-45f0-a952-c70e9a4dea74",
   "metadata": {},
   "outputs": [
    {
     "name": "stdout",
     "output_type": "stream",
     "text": [
      "23 is not divisible by 3\n",
      "45 is divisible by 3\n",
      "56 is not divisible by 3\n",
      "78 is divisible by 3\n",
      "21 is divisible by 3\n",
      "43 is not divisible by 3\n",
      "98 is not divisible by 3\n",
      "49 is not divisible by 3\n",
      "3 is divisible by 3\n",
      "7 is not divisible by 3\n",
      "9 is divisible by 3\n",
      "13 is not divisible by 3\n",
      "15 is divisible by 3\n",
      "11 is not divisible by 3\n",
      "10 is not divisible by 3\n",
      "98 is not divisible by 3\n",
      "32 is not divisible by 3\n",
      "33 is divisible by 3\n",
      "55 is not divisible by 3\n",
      "42 is divisible by 3\n",
      "54 is divisible by 3\n",
      "88 is not divisible by 3\n",
      "99 is divisible by 3\n",
      "24 is divisible by 3\n",
      "59 is not divisible by 3\n"
     ]
    }
   ],
   "source": [
    "# question : 6\n",
    "s = [23,45,56,78,21,43,98,49,3,7,9,13,15,11,10,98,32,33,55,42,54,88,99,24,59]\n",
    "for i in s:\n",
    "    if i%3==0:\n",
    "        print(f\"{i} is divisible by 3\")\n",
    "    else:\n",
    "        print(f\"{i} is not divisible by 3\")"
   ]
  },
  {
   "cell_type": "code",
   "execution_count": 21,
   "id": "5c0e8a80-4cb7-430d-8328-0d5223b62c82",
   "metadata": {},
   "outputs": [],
   "source": [
    "#question : 7\n",
    "Mutable_data_type = '''mutable data type are those whose value can be modified,remove,add or append ,changed \n",
    "                     after it have been ceated'''\n",
    "example = \" list , dictionary ,set \""
   ]
  },
  {
   "cell_type": "code",
   "execution_count": 24,
   "id": "871f7c5f-a07b-4ce7-8e55-d9133a8cc20b",
   "metadata": {},
   "outputs": [],
   "source": [
    "list = [22,8.9,'priya',True]"
   ]
  },
  {
   "cell_type": "code",
   "execution_count": 25,
   "id": "1daa6c81-f60d-4ab3-993c-1b6340733985",
   "metadata": {},
   "outputs": [],
   "source": [
    "list[0] = 12 "
   ]
  },
  {
   "cell_type": "code",
   "execution_count": 26,
   "id": "84a9e97a-d49c-49e0-8b19-eeee240b1c37",
   "metadata": {},
   "outputs": [
    {
     "data": {
      "text/plain": [
       "[12, 8.9, 'priya', True]"
      ]
     },
     "execution_count": 26,
     "metadata": {},
     "output_type": "execute_result"
    }
   ],
   "source": [
    "list"
   ]
  },
  {
   "cell_type": "code",
   "execution_count": 27,
   "id": "e96a856a-7c40-463f-ad1d-e00c9dfd90cf",
   "metadata": {},
   "outputs": [],
   "source": [
    "list.append('shakya')"
   ]
  },
  {
   "cell_type": "code",
   "execution_count": 28,
   "id": "67487b24-d366-40d0-8493-4ab6c98e27a0",
   "metadata": {},
   "outputs": [
    {
     "data": {
      "text/plain": [
       "[12, 8.9, 'priya', True, 'shakya']"
      ]
     },
     "execution_count": 28,
     "metadata": {},
     "output_type": "execute_result"
    }
   ],
   "source": [
    "list"
   ]
  },
  {
   "cell_type": "code",
   "execution_count": 29,
   "id": "913ffb47-a606-46e9-a90a-54763691aeea",
   "metadata": {},
   "outputs": [],
   "source": [
    "list.remove(True)"
   ]
  },
  {
   "cell_type": "code",
   "execution_count": 30,
   "id": "8f732280-e24a-468d-b925-f1a667af333c",
   "metadata": {},
   "outputs": [
    {
     "data": {
      "text/plain": [
       "[12, 8.9, 'priya', 'shakya']"
      ]
     },
     "execution_count": 30,
     "metadata": {},
     "output_type": "execute_result"
    }
   ],
   "source": [
    "list"
   ]
  },
  {
   "cell_type": "code",
   "execution_count": 31,
   "id": "1c9b179a-7cf5-44c1-b3a9-248ed74b942d",
   "metadata": {},
   "outputs": [],
   "source": [
    "set = {3,56,2,1,3}"
   ]
  },
  {
   "cell_type": "code",
   "execution_count": 32,
   "id": "780629e1-fd77-4606-acc9-83edf01e258f",
   "metadata": {},
   "outputs": [],
   "source": [
    "set.add(22)"
   ]
  },
  {
   "cell_type": "code",
   "execution_count": 33,
   "id": "d0db5008-538c-48fa-9d2c-51d14be6266b",
   "metadata": {},
   "outputs": [
    {
     "data": {
      "text/plain": [
       "{1, 2, 3, 22, 56}"
      ]
     },
     "execution_count": 33,
     "metadata": {},
     "output_type": "execute_result"
    }
   ],
   "source": [
    "set"
   ]
  },
  {
   "cell_type": "code",
   "execution_count": 34,
   "id": "5403c622-841e-4d72-b5e3-e2b6142cb1f0",
   "metadata": {},
   "outputs": [],
   "source": [
    "set.remove(56)"
   ]
  },
  {
   "cell_type": "code",
   "execution_count": 35,
   "id": "6b7fb466-4c20-4526-a0e9-cfdf55c6a9b1",
   "metadata": {},
   "outputs": [
    {
     "data": {
      "text/plain": [
       "{1, 2, 3, 22}"
      ]
     },
     "execution_count": 35,
     "metadata": {},
     "output_type": "execute_result"
    }
   ],
   "source": [
    "set"
   ]
  },
  {
   "cell_type": "code",
   "execution_count": 36,
   "id": "facdb56a-c0ff-47aa-8410-49b1107331af",
   "metadata": {},
   "outputs": [
    {
     "data": {
      "text/plain": [
       "1"
      ]
     },
     "execution_count": 36,
     "metadata": {},
     "output_type": "execute_result"
    }
   ],
   "source": [
    "set.pop()"
   ]
  },
  {
   "cell_type": "code",
   "execution_count": 40,
   "id": "18c11a41-eec7-4c7f-ab81-564cc8210997",
   "metadata": {},
   "outputs": [],
   "source": [
    "Immutable_data_type = ''' Immutable data type are those whose value cannot be modified,remove,add or append\n",
    "                          once the are created '''\n",
    "example = \" int ,float, string ,tuples\""
   ]
  },
  {
   "cell_type": "code",
   "execution_count": 41,
   "id": "921c3e9e-81c1-4d4b-99b3-c3e84a6b6882",
   "metadata": {},
   "outputs": [],
   "source": [
    "str = 'datascience'"
   ]
  },
  {
   "cell_type": "code",
   "execution_count": 42,
   "id": "ad4ad15c-c7f1-458e-827f-aba589b611fa",
   "metadata": {},
   "outputs": [
    {
     "ename": "TypeError",
     "evalue": "'str' object does not support item assignment",
     "output_type": "error",
     "traceback": [
      "\u001b[0;31m---------------------------------------------------------------------------\u001b[0m",
      "\u001b[0;31mTypeError\u001b[0m                                 Traceback (most recent call last)",
      "Cell \u001b[0;32mIn[42], line 1\u001b[0m\n\u001b[0;32m----> 1\u001b[0m \u001b[38;5;28;43mstr\u001b[39;49m\u001b[43m[\u001b[49m\u001b[38;5;241;43m2\u001b[39;49m\u001b[43m]\u001b[49m \u001b[38;5;241m=\u001b[39m \u001b[38;5;124m'\u001b[39m\u001b[38;5;124mr\u001b[39m\u001b[38;5;124m'\u001b[39m\n",
      "\u001b[0;31mTypeError\u001b[0m: 'str' object does not support item assignment"
     ]
    }
   ],
   "source": [
    "str[2] = 'r'"
   ]
  },
  {
   "cell_type": "code",
   "execution_count": null,
   "id": "68742154-648e-4ed7-91fe-38e983765852",
   "metadata": {},
   "outputs": [],
   "source": []
  }
 ],
 "metadata": {
  "kernelspec": {
   "display_name": "Python 3 (ipykernel)",
   "language": "python",
   "name": "python3"
  },
  "language_info": {
   "codemirror_mode": {
    "name": "ipython",
    "version": 3
   },
   "file_extension": ".py",
   "mimetype": "text/x-python",
   "name": "python",
   "nbconvert_exporter": "python",
   "pygments_lexer": "ipython3",
   "version": "3.10.8"
  }
 },
 "nbformat": 4,
 "nbformat_minor": 5
}
