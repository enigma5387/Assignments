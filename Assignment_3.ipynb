{
 "cells": [
  {
   "cell_type": "code",
   "execution_count": null,
   "id": "7534f793-d628-4d53-a924-3063731a7331",
   "metadata": {},
   "outputs": [],
   "source": [
    "Q1. Which keyword is used to create a function? Create a function to return a list of odd numbers in the\n",
    "range of 1 to 25."
   ]
  },
  {
   "cell_type": "code",
   "execution_count": null,
   "id": "c387aefe-2da9-4a15-b243-b964f5671bca",
   "metadata": {},
   "outputs": [],
   "source": [
    "ANS: 'def' keyword is used to create a function."
   ]
  },
  {
   "cell_type": "code",
   "execution_count": 5,
   "id": "f17cc82b-5914-4849-9cda-f4325ab48e07",
   "metadata": {},
   "outputs": [
    {
     "data": {
      "text/plain": [
       "[1, 3, 5, 7, 9, 11, 13, 15, 17, 19, 21, 23, 25]"
      ]
     },
     "execution_count": 5,
     "metadata": {},
     "output_type": "execute_result"
    }
   ],
   "source": [
    "def odd_num(l):\n",
    "    m = []\n",
    "    for i in l:\n",
    "        if(i%2!=0):\n",
    "            m.append(i)\n",
    "    return m        \n",
    "l = [] \n",
    "for i in range(1,26):\n",
    "    l.append(i)\n",
    "odd_num(l)    "
   ]
  },
  {
   "cell_type": "code",
   "execution_count": null,
   "id": "ed15dfcb-8f8a-4574-b657-8f053062a63b",
   "metadata": {},
   "outputs": [],
   "source": [
    "Q2. Why *args and **kwargs is used in some functions? Create a function each for *args and **kwargs\n",
    "to demonstrate their use."
   ]
  },
  {
   "cell_type": "code",
   "execution_count": null,
   "id": "a142d503-3deb-4c56-8c0a-126625628ab4",
   "metadata": {},
   "outputs": [],
   "source": [
    "ANS: '*args' are used in function when we want to pass more than argument to the function.It allow us to pass a \n",
    "     variable number of non keyword arguments to a python function.It often used when the number of arguments that \n",
    "    a function can accept is unknown or can vary. and these arguments are collected into tuoles inside the function.\n",
    "    \n",
    "'**kwargs' it allow us to pass a variable number of keyword arguments to the pyhton function. these arguments are \n",
    "collected in dictionary inside the function,where the keys are the argument names and the values are the correspond-\n",
    "ing argument values. "
   ]
  },
  {
   "cell_type": "code",
   "execution_count": 7,
   "id": "f847cdd2-ffd1-4df2-83d9-dee6aff7a468",
   "metadata": {},
   "outputs": [
    {
     "data": {
      "text/plain": [
       "(2, 4, 8, 'pria', True, 56.4)"
      ]
     },
     "execution_count": 7,
     "metadata": {},
     "output_type": "execute_result"
    }
   ],
   "source": [
    "# *args\n",
    "def func(*args):\n",
    "    return args\n",
    "\n",
    "func(2,4,8,'pria',True,56.4)"
   ]
  },
  {
   "cell_type": "code",
   "execution_count": 8,
   "id": "7fa37e53-faca-4fbf-8850-1503f207dd4e",
   "metadata": {},
   "outputs": [
    {
     "data": {
      "text/plain": [
       "{'pria': 'a coder', 'college': 'IIT', 'age': '23', 'experience': '2 years'}"
      ]
     },
     "execution_count": 8,
     "metadata": {},
     "output_type": "execute_result"
    }
   ],
   "source": [
    "# **kwargs\n",
    "def func(**kwargs):\n",
    "    return kwargs\n",
    "func(pria = 'a coder',college = 'IIT',age = '23',experience = '2 years')"
   ]
  },
  {
   "cell_type": "code",
   "execution_count": null,
   "id": "d6083d73-831f-454c-bc0d-48c3f2ee1547",
   "metadata": {},
   "outputs": [],
   "source": [
    "Q3. What is an iterator in python? Name the method used to initialise the iterator object and the method\n",
    "used for iteration. Use these methods to print the first five elements of the given list [2, 4, 6, 8, 10, 12, 14,\n",
    "16, 18, 20]."
   ]
  },
  {
   "cell_type": "code",
   "execution_count": null,
   "id": "67c164af-ec44-40ea-987c-2cc4f9ec9f41",
   "metadata": {},
   "outputs": [],
   "source": [
    "ANS: it is an object that allow us to iterate over colllection of data,such as lists,sets,tuples,dictionary.it also \n",
    "    implement the iterator design pattern,which allow us to transverse a container and access its element.\n",
    "    iter() is used to intialie the iterator\n",
    "    next() is used for iteration"
   ]
  },
  {
   "cell_type": "code",
   "execution_count": 10,
   "id": "49479cb3-bff2-41d6-9a65-030d51fb990d",
   "metadata": {},
   "outputs": [],
   "source": [
    "def func():\n",
    "    list = [2,4,6,8,10,12,14,16,18,20]\n",
    "    for i in list:\n",
    "        yield i"
   ]
  },
  {
   "cell_type": "code",
   "execution_count": 11,
   "id": "9a639043-12e7-441e-b26b-b46f7b9c6de3",
   "metadata": {},
   "outputs": [],
   "source": [
    "l = func()"
   ]
  },
  {
   "cell_type": "code",
   "execution_count": 13,
   "id": "08fd4031-7693-4260-b4d7-0dd10e55ded5",
   "metadata": {},
   "outputs": [
    {
     "name": "stdout",
     "output_type": "stream",
     "text": [
      "2\n",
      "4\n",
      "6\n",
      "8\n",
      "10\n"
     ]
    }
   ],
   "source": [
    "for i in range(5):\n",
    "    print(next(l))"
   ]
  },
  {
   "cell_type": "code",
   "execution_count": 16,
   "id": "4d1535b8-ca4c-4d71-8c0a-9eeb75494a48",
   "metadata": {},
   "outputs": [],
   "source": [
    "#another method\n",
    "list = [2,4,6,8,10,12,14,16,18,20]"
   ]
  },
  {
   "cell_type": "code",
   "execution_count": 18,
   "id": "4e999ed8-5a78-4db7-98c1-e9310290dce5",
   "metadata": {},
   "outputs": [],
   "source": [
    "a = iter(list)"
   ]
  },
  {
   "cell_type": "code",
   "execution_count": 19,
   "id": "afe9fb40-870c-4317-9bf8-d169736c3323",
   "metadata": {},
   "outputs": [
    {
     "data": {
      "text/plain": [
       "2"
      ]
     },
     "execution_count": 19,
     "metadata": {},
     "output_type": "execute_result"
    }
   ],
   "source": [
    "next(a)"
   ]
  },
  {
   "cell_type": "code",
   "execution_count": 20,
   "id": "c2655350-bc72-42d9-a457-41168bc40fdf",
   "metadata": {},
   "outputs": [
    {
     "data": {
      "text/plain": [
       "4"
      ]
     },
     "execution_count": 20,
     "metadata": {},
     "output_type": "execute_result"
    }
   ],
   "source": [
    "next(a)"
   ]
  },
  {
   "cell_type": "code",
   "execution_count": 21,
   "id": "6ea7d633-134d-45d0-8393-66a5c5e19a12",
   "metadata": {},
   "outputs": [
    {
     "data": {
      "text/plain": [
       "6"
      ]
     },
     "execution_count": 21,
     "metadata": {},
     "output_type": "execute_result"
    }
   ],
   "source": [
    "next(a)"
   ]
  },
  {
   "cell_type": "code",
   "execution_count": 22,
   "id": "2e222c73-9e6d-481e-988d-d11068d899a6",
   "metadata": {},
   "outputs": [
    {
     "data": {
      "text/plain": [
       "8"
      ]
     },
     "execution_count": 22,
     "metadata": {},
     "output_type": "execute_result"
    }
   ],
   "source": [
    "next(a)"
   ]
  },
  {
   "cell_type": "code",
   "execution_count": 23,
   "id": "d16c8591-ab5c-4e57-8e77-79740137dd57",
   "metadata": {},
   "outputs": [
    {
     "data": {
      "text/plain": [
       "10"
      ]
     },
     "execution_count": 23,
     "metadata": {},
     "output_type": "execute_result"
    }
   ],
   "source": [
    "next(a)"
   ]
  },
  {
   "cell_type": "code",
   "execution_count": null,
   "id": "d89831a8-6e77-4063-9c83-b6ac9647a80a",
   "metadata": {},
   "outputs": [],
   "source": [
    "Q4. What is a generator function in python? Why yield keyword is used? Give an example of a generator\n",
    "function."
   ]
  },
  {
   "cell_type": "code",
   "execution_count": null,
   "id": "ffec8cf7-e415-4356-9c94-78d0227d8089",
   "metadata": {},
   "outputs": [],
   "source": [
    "ANS: Generator function allow us to declare a function that behaves like an iterator, providing a faster and easier\n",
    "     way to create iterators.they can be used on an abstract container of data to turn it into an iterable object \n",
    "     like list ,strings,dictionaries.\n",
    "    'yield' is used to control the flow of generator function. it is   "
   ]
  },
  {
   "cell_type": "code",
   "execution_count": 24,
   "id": "e5b8a2e0-5554-4825-b782-6217a0c93ca0",
   "metadata": {},
   "outputs": [],
   "source": [
    "def list():\n",
    "    l = [3,6.4,True,'pia', None ,9.99]\n",
    "    for i in l:\n",
    "        yield i"
   ]
  },
  {
   "cell_type": "code",
   "execution_count": 26,
   "id": "401ced2d-1f38-492d-a681-ae3cb9c45d0d",
   "metadata": {},
   "outputs": [
    {
     "name": "stdout",
     "output_type": "stream",
     "text": [
      "3\n",
      "6.4\n",
      "True\n",
      "pia\n"
     ]
    }
   ],
   "source": [
    "L = list()\n",
    "for i in range(4):\n",
    "    print(next(L))"
   ]
  },
  {
   "cell_type": "code",
   "execution_count": null,
   "id": "43018527-c01b-4d72-bfb5-3a1a9adb7b39",
   "metadata": {},
   "outputs": [],
   "source": [
    "Q5. Create a generator function for prime numbers less than 1000. Use the next() method to print the\n",
    "first 20 prime numbers."
   ]
  },
  {
   "cell_type": "code",
   "execution_count": 27,
   "id": "cc382365-4f44-46d6-997c-febd8617ef16",
   "metadata": {},
   "outputs": [],
   "source": [
    "def prime():\n",
    "    a = True\n",
    "    n = 1000\n",
    "    for i in range(2,n):\n",
    "        for j in range(2,i):\n",
    "            if(i%j==0):\n",
    "                a = False\n",
    "                break\n",
    "            else:\n",
    "                a = True\n",
    "        if(a==True):\n",
    "            yield i        \n",
    "      "
   ]
  },
  {
   "cell_type": "code",
   "execution_count": 28,
   "id": "0716234f-370f-42fa-943e-f81fb9d755e6",
   "metadata": {},
   "outputs": [
    {
     "name": "stdout",
     "output_type": "stream",
     "text": [
      "2\n",
      "3\n",
      "5\n",
      "7\n",
      "11\n",
      "13\n",
      "17\n",
      "19\n",
      "23\n",
      "29\n",
      "31\n",
      "37\n",
      "41\n",
      "43\n",
      "47\n",
      "53\n",
      "59\n",
      "61\n",
      "67\n",
      "71\n"
     ]
    }
   ],
   "source": [
    "p = prime()\n",
    "for i in range(20):\n",
    "    print(next(p))"
   ]
  },
  {
   "cell_type": "code",
   "execution_count": null,
   "id": "b177baf4-aaa9-4a1f-a480-9a5b43bfb685",
   "metadata": {},
   "outputs": [],
   "source": [
    "Q6. Write a python program to print the first 10 Fibonacci numbers using a while loop."
   ]
  },
  {
   "cell_type": "code",
   "execution_count": 29,
   "id": "6e716c41-5c4f-4128-ad7e-218cd92c5d71",
   "metadata": {},
   "outputs": [
    {
     "name": "stdout",
     "output_type": "stream",
     "text": [
      "0\n",
      "1\n",
      "1\n",
      "2\n",
      "3\n",
      "5\n",
      "8\n",
      "13\n",
      "21\n",
      "34\n"
     ]
    }
   ],
   "source": [
    "n = 10\n",
    "a = 0\n",
    "b = 1\n",
    "i = 0\n",
    "while(i<n):\n",
    "    print(a)\n",
    "    a,b = b,a+b\n",
    "    i+=1"
   ]
  },
  {
   "cell_type": "code",
   "execution_count": null,
   "id": "2890cdc2-c6dc-45e8-9ce0-0e3200cd3940",
   "metadata": {},
   "outputs": [],
   "source": [
    "Q7. Write a List Comprehension to iterate through the given string: ‘pwskills’.\n",
    "Expected output: ['p', 'w', 's', 'k', 'i', 'l', 'l', 's']"
   ]
  },
  {
   "cell_type": "code",
   "execution_count": 38,
   "id": "39ad8f5d-3d16-4193-82d4-212e9b44be8f",
   "metadata": {},
   "outputs": [],
   "source": [
    "s = \"pwskills\""
   ]
  },
  {
   "cell_type": "code",
   "execution_count": 44,
   "id": "7a0dacfd-f301-47bb-95e7-5553ff320204",
   "metadata": {},
   "outputs": [],
   "source": [
    "l = []\n",
    "for i in s:\n",
    "    l.append(i)"
   ]
  },
  {
   "cell_type": "code",
   "execution_count": 45,
   "id": "a57ca30b-a9fb-44df-ad88-90a16dbbb78f",
   "metadata": {},
   "outputs": [
    {
     "data": {
      "text/plain": [
       "['p', 'w', 's', 'k', 'i', 'l', 'l', 's']"
      ]
     },
     "execution_count": 45,
     "metadata": {},
     "output_type": "execute_result"
    }
   ],
   "source": [
    "l"
   ]
  },
  {
   "cell_type": "code",
   "execution_count": null,
   "id": "51e9603f-9b20-4923-ab3c-37d373e21a81",
   "metadata": {},
   "outputs": [],
   "source": [
    "Q8. Write a python program to check whether a given number is Palindrome or not using a while loop."
   ]
  },
  {
   "cell_type": "code",
   "execution_count": 1,
   "id": "c3afb51d-a1fb-4892-b5bf-f8669b01f5a6",
   "metadata": {},
   "outputs": [
    {
     "name": "stdout",
     "output_type": "stream",
     "text": [
      "the num is pallindrome!\n"
     ]
    }
   ],
   "source": [
    "n = 141\n",
    "t = n\n",
    "r = 0\n",
    "while(n>0):\n",
    "    d = n%10\n",
    "    r = r*10+d\n",
    "    n = n//10\n",
    "if(t==r):\n",
    "    print(\"the num is pallindrome!\")\n",
    "else:\n",
    "    print(\"num is not pallindrome!\")"
   ]
  },
  {
   "cell_type": "code",
   "execution_count": 2,
   "id": "8f301599-02f8-4d29-b3e4-f12dd352fea7",
   "metadata": {},
   "outputs": [
    {
     "name": "stdout",
     "output_type": "stream",
     "text": [
      "num is not pallindrome!\n"
     ]
    }
   ],
   "source": [
    "n = 146\n",
    "t = n\n",
    "r = 0\n",
    "while(n>0):\n",
    "    d = n%10\n",
    "    r = r*10+d\n",
    "    n = n//10\n",
    "if(t==r):\n",
    "    print(\"the num is pallindrome!\")\n",
    "else:\n",
    "    print(\"num is not pallindrome!\")"
   ]
  },
  {
   "cell_type": "code",
   "execution_count": null,
   "id": "170a4bf1-5da0-41a4-8353-423d43bd2d7b",
   "metadata": {},
   "outputs": [],
   "source": [
    "Q9. Write a code to print odd numbers from 1 to 100 using list comprehension."
   ]
  },
  {
   "cell_type": "code",
   "execution_count": 4,
   "id": "d8a770a0-b44f-4752-9bca-b18b3c1b1c25",
   "metadata": {},
   "outputs": [
    {
     "data": {
      "text/plain": [
       "[1,\n",
       " 3,\n",
       " 5,\n",
       " 7,\n",
       " 9,\n",
       " 11,\n",
       " 13,\n",
       " 15,\n",
       " 17,\n",
       " 19,\n",
       " 21,\n",
       " 23,\n",
       " 25,\n",
       " 27,\n",
       " 29,\n",
       " 31,\n",
       " 33,\n",
       " 35,\n",
       " 37,\n",
       " 39,\n",
       " 41,\n",
       " 43,\n",
       " 45,\n",
       " 47,\n",
       " 49,\n",
       " 51,\n",
       " 53,\n",
       " 55,\n",
       " 57,\n",
       " 59,\n",
       " 61,\n",
       " 63,\n",
       " 65,\n",
       " 67,\n",
       " 69,\n",
       " 71,\n",
       " 73,\n",
       " 75,\n",
       " 77,\n",
       " 79,\n",
       " 81,\n",
       " 83,\n",
       " 85,\n",
       " 87,\n",
       " 89,\n",
       " 91,\n",
       " 93,\n",
       " 95,\n",
       " 97,\n",
       " 99]"
      ]
     },
     "execution_count": 4,
     "metadata": {},
     "output_type": "execute_result"
    }
   ],
   "source": [
    "def odd_num(l):\n",
    "    m = []\n",
    "    for i in l:\n",
    "        if(i%2!=0):\n",
    "            m.append(i)\n",
    "    return m        \n",
    "n = 100\n",
    "l = []\n",
    "for i in range(1,n+1):\n",
    "    l.append(i)\n",
    "odd_num(l)    "
   ]
  },
  {
   "cell_type": "code",
   "execution_count": null,
   "id": "02ebe7c5-d798-419b-a3e9-a3cfcad8009c",
   "metadata": {},
   "outputs": [],
   "source": []
  }
 ],
 "metadata": {
  "kernelspec": {
   "display_name": "Python 3 (ipykernel)",
   "language": "python",
   "name": "python3"
  },
  "language_info": {
   "codemirror_mode": {
    "name": "ipython",
    "version": 3
   },
   "file_extension": ".py",
   "mimetype": "text/x-python",
   "name": "python",
   "nbconvert_exporter": "python",
   "pygments_lexer": "ipython3",
   "version": "3.10.8"
  }
 },
 "nbformat": 4,
 "nbformat_minor": 5
}
