{
 "cells": [
  {
   "cell_type": "markdown",
   "id": "2292e50b-c75a-44f0-b706-7482d1c174c3",
   "metadata": {},
   "source": [
    "Q1. Explain Class and Object with respect to Object-Oriented Programming. Give a suitable example."
   ]
  },
  {
   "cell_type": "markdown",
   "id": "d4dc3d65-7ea7-4fb3-9888-d8cc77561437",
   "metadata": {},
   "source": [
    "ANS: CLASS :- Class is a blueprint for an object.Like real world entity has some properties or beahviour which is\n",
    "     represented by class variables and methods in programming.\n",
    "     syntax:-   class class_name:\n",
    "                    #vaiables\n",
    "                    #methods\n",
    "\n",
    "OBJECT:- As we know class is a logical entity while an object is a physical or real entity that works on classes  data.\n",
    "1. Each object has a distinct role or reponsibility.\n",
    "2. object creates space on memory as per class members\n",
    "  syntax:-     object_name = class_name()   "
   ]
  },
  {
   "cell_type": "code",
   "execution_count": 6,
   "id": "30217598-5fd7-4894-995c-9a103cdaacd8",
   "metadata": {},
   "outputs": [
    {
     "data": {
      "text/plain": [
       "'toyota'"
      ]
     },
     "execution_count": 6,
     "metadata": {},
     "output_type": "execute_result"
    }
   ],
   "source": [
    "# class definition\n",
    "class Car:\n",
    "    def __init__(self,brand,model):\n",
    "        self.brand = brand\n",
    "        self.model = model\n",
    "        \n",
    "    def start_engine(self):\n",
    "        print(\"the car's engine has started\")\n",
    "\n",
    "# object creation\n",
    "my_car = Car(\"toyota\",\"camry\")\n",
    "\n",
    "# accessing object attributes\n",
    "my_car.brand  # output toyota"
   ]
  },
  {
   "cell_type": "markdown",
   "id": "67d02e79-6d4e-4fbc-86e4-a8c4584c865c",
   "metadata": {},
   "source": [
    "Q2. Name the four pillars of OOPs."
   ]
  },
  {
   "cell_type": "markdown",
   "id": "aa0ece12-4862-4550-86ed-027c07e12344",
   "metadata": {},
   "source": [
    "ANS: 1.Encapsulation\n",
    "     2.Abstraction\n",
    "     3.Inheritance\n",
    "     4.Polymorphism"
   ]
  },
  {
   "cell_type": "markdown",
   "id": "ea4cf84b-3e1f-431b-bdbf-f7ffdc921df3",
   "metadata": {},
   "source": [
    "Q3. Explain why the __init__() function is used. Give a suitable example."
   ]
  },
  {
   "cell_type": "markdown",
   "id": "3509f8d9-a9bf-425b-90b0-d58d3e19350a",
   "metadata": {},
   "source": [
    "ANS : The __init__ function is used as a constructor method for intializing the attributes of an object when it  is \n",
    "created from a class. it is automatically called when the object is instantiated. The primary purpose of the \n",
    "__init__ function is to set up the initial state of the object by assigning values to attributes. This allow us to \n",
    "define and custommize the initial properties of an object,providing it with the necessary data for its proper \n",
    "functioning."
   ]
  },
  {
   "cell_type": "code",
   "execution_count": 7,
   "id": "11c645fb-f9e7-4b80-b141-ad9b973bc4b9",
   "metadata": {},
   "outputs": [
    {
     "name": "stdout",
     "output_type": "stream",
     "text": [
      "initializing..\n"
     ]
    }
   ],
   "source": [
    "class Car:\n",
    "    def __init__(self,brand,model):\n",
    "        self.brand = brand\n",
    "        self.model = model\n",
    "        print(\"initializing..\")\n",
    "        \n",
    "    def start_engine(self):\n",
    "        print(\"the car's engine has started\")\n",
    "\n",
    "ny_car = Car(\"toyota\",\"camry\")\n"
   ]
  },
  {
   "cell_type": "markdown",
   "id": "6f7b8909-4895-4a30-9884-94d7175b7ce9",
   "metadata": {},
   "source": [
    "Q4. Why self is used in OOPs?"
   ]
  },
  {
   "cell_type": "markdown",
   "id": "4f35b815-1def-4e8b-b1b0-ea8ab6c5d60c",
   "metadata": {},
   "source": [
    "ANS : The self is used to represent the instance of the class. With this keyword, you can access the attributes and\n",
    "methods of the class in python. It binds the attributes with the given arguments. "
   ]
  },
  {
   "cell_type": "code",
   "execution_count": 8,
   "id": "0668e520-1ea8-4f56-8e05-55eedfa8c76c",
   "metadata": {},
   "outputs": [
    {
     "name": "stdout",
     "output_type": "stream",
     "text": [
      "Model is audi a4\n",
      "color is blue\n",
      "Model is ferrari 488\n",
      "color is green\n"
     ]
    }
   ],
   "source": [
    "class car():\n",
    "      \n",
    "    # init method or constructor\n",
    "    def __init__(self, model, color):\n",
    "        self.model = model\n",
    "        self.color = color\n",
    "          \n",
    "    def show(self):\n",
    "        print(\"Model is\", self.model )\n",
    "        print(\"color is\", self.color )\n",
    "          \n",
    "# both objects have different self which \n",
    "# contain their attributes\n",
    "audi = car(\"audi a4\", \"blue\")\n",
    "ferrari = car(\"ferrari 488\", \"green\")\n",
    "  \n",
    "audi.show()     # same output as car.show(audi)\n",
    "ferrari.show()  # same output as car.show(ferrari)\n",
    "  "
   ]
  },
  {
   "cell_type": "markdown",
   "id": "9901bf61-1eee-4fb6-b834-5f94c3227177",
   "metadata": {},
   "source": [
    "Q5. What is inheritance? Give an example for each type of inheritance."
   ]
  },
  {
   "cell_type": "markdown",
   "id": "7c57ba52-7309-4a42-9f6c-334b46e48391",
   "metadata": {},
   "source": [
    "ANS : It is amechanism that allows us to create an hierarchy of classes that share a set of properties and methods\n",
    "by deriving a class from another class. Inheritance is the capability of one class to derive or inherit the \n",
    "properties from another class.\n",
    "It represent real world relationships well.\n",
    "It offers a simple, understanbable model structure.\n",
    "It provides reusability of a code.and also it allows us tp add more features to a class without modifying it.\n",
    "\n",
    "TYPE OF INHERITANCE :\n",
    "    1.Single inheritance\n",
    "    2.Multiple inheritance\n",
    "    3.Multi-level inheritance\n",
    "    4.Hierarchical inheritance\n",
    "    5.Hybrid inheritance"
   ]
  }
 ],
 "metadata": {
  "kernelspec": {
   "display_name": "Python 3 (ipykernel)",
   "language": "python",
   "name": "python3"
  },
  "language_info": {
   "codemirror_mode": {
    "name": "ipython",
    "version": 3
   },
   "file_extension": ".py",
   "mimetype": "text/x-python",
   "name": "python",
   "nbconvert_exporter": "python",
   "pygments_lexer": "ipython3",
   "version": "3.10.8"
  }
 },
 "nbformat": 4,
 "nbformat_minor": 5
}
